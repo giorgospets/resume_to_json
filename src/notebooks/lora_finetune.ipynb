{
 "cells": [
  {
   "cell_type": "code",
   "execution_count": null,
   "id": "2472bf80",
   "metadata": {},
   "outputs": [],
   "source": [
    "import sys\n",
    "from dotenv import load_dotenv\n",
    "import os\n",
    "\n",
    "load_dotenv()\n",
    "\n",
    "PROJECT_ROOT = os.getenv(\"PROJECT_ROOT\")\n",
    "sys.path.append(PROJECT_ROOT)\n",
    "sys.path.append(os.path.join(PROJECT_ROOT, \"src\"))\n",
    "sys.path.append(os.path.join(PROJECT_ROOT, \"src/scripts\"))\n",
    "sys.path.append(os.path.join(PROJECT_ROOT, \"src/utils\"))\n",
    "\n",
    "# Now import the module\n",
    "from model_lora_finetune import *"
   ]
  },
  {
   "cell_type": "code",
   "execution_count": null,
   "id": "f84a696b",
   "metadata": {},
   "outputs": [],
   "source": [
    "args = TrainingArguments(\n",
    "\tper_device_train_batch_size=12,\n",
    "\tgradient_accumulation_steps=24,\n",
    "\twarmup_ratio=0.05,\n",
    "\tnum_train_epochs=1,\n",
    "\tlearning_rate=2e-4,\n",
    "\tfp16=not is_bfloat16_supported(),\n",
    "\tbf16=is_bfloat16_supported(),\n",
    "\tlogging_steps=10,\n",
    "\toptim=\"adamw_torch\",\n",
    "\tweight_decay=0.01,\n",
    "\tlr_scheduler_type=\"linear\",\n",
    "\tseed=3407,\n",
    "\toutput_dir=os.path.join(MODELS_PATH, \"lora_finetuned_gemma-3-1b-it-4bit\"),\n",
    "\treport_to=\"none\",\n",
    "\teval_strategy=\"steps\",\n",
    "\teval_steps=10,\n",
    "\tsave_strategy=\"steps\",\n",
    "\tsave_steps=10,\n",
    "\tsave_total_limit=1,\n",
    "\tmetric_for_best_model=\"eval_loss\",\n",
    "\tgreater_is_better=False,\n",
    ")"
   ]
  },
  {
   "cell_type": "code",
   "execution_count": null,
   "id": "7fd52715",
   "metadata": {},
   "outputs": [],
   "source": [
    "trainer = SFTTrainer(\n",
    "\tmodel=model,\n",
    "\ttokenizer=tokenizer,\n",
    "\ttrain_dataset=train_dataset,\n",
    "\teval_dataset=val_dataset,\n",
    "\tdataset_text_field=\"text\",\n",
    "\tmax_seq_length=MAX_SEQ_LENGTH,\n",
    "\tdataset_num_proc=2,\n",
    "\tpacking=True,\n",
    "\targs=args,\n",
    "\tmax_grad_norm=1.0,\n",
    ")"
   ]
  },
  {
   "cell_type": "code",
   "execution_count": null,
   "id": "f4d81fc5",
   "metadata": {},
   "outputs": [],
   "source": [
    "gpu_stats = torch.cuda.get_device_properties(0)\n",
    "start_gpu_memory = round(torch.cuda.max_memory_reserved() / 1024 / 1024 / 1024, 3)\n",
    "max_memory = round(gpu_stats.total_memory / 1024 / 1024 / 1024, 3)\n",
    "print(f\"GPU = {gpu_stats.name}. Max memory = {max_memory} GB.\")\n",
    "print(f\"{start_gpu_memory} GB of memory reserved.\")"
   ]
  },
  {
   "cell_type": "code",
   "execution_count": null,
   "id": "23360b59",
   "metadata": {},
   "outputs": [],
   "source": [
    "trainer.train()"
   ]
  }
 ],
 "metadata": {
  "kernelspec": {
   "display_name": "resume_to_json",
   "language": "python",
   "name": "python3"
  },
  "language_info": {
   "name": "python",
   "version": "3.12.3"
  }
 },
 "nbformat": 4,
 "nbformat_minor": 5
}
