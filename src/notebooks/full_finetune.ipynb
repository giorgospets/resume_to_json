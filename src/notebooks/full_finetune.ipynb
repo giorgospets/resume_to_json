{
 "cells": [
  {
   "cell_type": "code",
   "execution_count": 1,
   "id": "1f846597",
   "metadata": {},
   "outputs": [
    {
     "name": "stderr",
     "output_type": "stream",
     "text": [
      "/home/kotsios/dsit/deep_learning/resume_to_json/.venv/lib/python3.12/site-packages/tqdm/auto.py:21: TqdmWarning: IProgress not found. Please update jupyter and ipywidgets. See https://ipywidgets.readthedocs.io/en/stable/user_install.html\n",
      "  from .autonotebook import tqdm as notebook_tqdm\n"
     ]
    },
    {
     "name": "stdout",
     "output_type": "stream",
     "text": [
      "🦥 Unsloth: Will patch your computer to enable 2x faster free finetuning.\n",
      "INFO 09-19 20:23:01 [__init__.py:216] Automatically detected platform cuda.\n",
      "🦥 Unsloth Zoo will now patch everything to make training faster!\n",
      "==((====))==  Unsloth 2025.9.5: Fast Gemma3_Text patching. Transformers: 4.56.1. vLLM: 0.10.2.\n",
      "   \\\\   /|    NVIDIA GeForce RTX 3090. Num GPUs = 1. Max memory: 23.663 GB. Platform: Linux.\n",
      "O^O/ \\_/ \\    Torch: 2.8.0+cu128. CUDA: 8.6. CUDA Toolkit: 12.8. Triton: 3.4.0\n",
      "\\        /    Bfloat16 = TRUE. FA [Xformers = 0.0.32.post1. FA2 = False]\n",
      " \"-____-\"     Free license: http://github.com/unslothai/unsloth\n",
      "Unsloth: Fast downloading is enabled - ignore downloading bars which are red colored!\n",
      "Unsloth: Using bfloat16 full finetuning which cuts memory usage by 50%.\n"
     ]
    },
    {
     "name": "stderr",
     "output_type": "stream",
     "text": [
      "Map: 100%|██████████| 13076/13076 [00:00<00:00, 33893.30 examples/s]\n",
      "Filter: 100%|██████████| 13076/13076 [00:31<00:00, 417.81 examples/s]\n",
      "Map: 100%|██████████| 100/100 [00:00<00:00, 23850.24 examples/s]\n",
      "Filter: 100%|██████████| 100/100 [00:00<00:00, 456.04 examples/s]\n"
     ]
    }
   ],
   "source": [
    "import sys\n",
    "from dotenv import load_dotenv\n",
    "import os\n",
    "\n",
    "load_dotenv()\n",
    "\n",
    "PROJECT_ROOT = os.getenv(\"PROJECT_ROOT\")\n",
    "sys.path.append(PROJECT_ROOT)\n",
    "sys.path.append(os.path.join(PROJECT_ROOT, \"src\"))\n",
    "sys.path.append(os.path.join(PROJECT_ROOT, \"src/scripts\"))\n",
    "sys.path.append(os.path.join(PROJECT_ROOT, \"src/utils\"))\n",
    "\n",
    "# Now import the module\n",
    "from model_full_finetune import *"
   ]
  },
  {
   "cell_type": "code",
   "execution_count": 6,
   "id": "15b80d34",
   "metadata": {},
   "outputs": [],
   "source": [
    "args = TrainingArguments(\n",
    "\tper_device_train_batch_size=12,\n",
    "\tper_device_eval_batch_size=8,\n",
    "\tgradient_accumulation_steps=24,\n",
    "\twarmup_ratio=0.05,\n",
    "\tnum_train_epochs=5,\n",
    "\tlearning_rate=1e-4,\n",
    "\tfp16=not is_bfloat16_supported(),\n",
    "\tbf16=is_bfloat16_supported(),\n",
    "\tlogging_steps=10,\n",
    "\toptim=\"adamw_torch\",\n",
    "\tweight_decay=0.01,\n",
    "\tlr_scheduler_type=\"linear\",\n",
    "\tseed=3407,\n",
    "\toutput_dir=os.path.join(MODELS_PATH, \"full_finetuned_gemma-3-270m-it\"),\n",
    "\treport_to=\"tensorboard\",\n",
    "\teval_strategy=\"steps\",\n",
    "\teval_steps=10,\n",
    "\tsave_strategy=\"steps\",\n",
    "\tsave_steps=10,\n",
    "\tsave_total_limit=3,\n",
    "\tmetric_for_best_model=\"eval_loss\",\n",
    "\tgreater_is_better=False,\n",
    ")"
   ]
  },
  {
   "cell_type": "code",
   "execution_count": null,
   "id": "80f15491",
   "metadata": {},
   "outputs": [
    {
     "name": "stderr",
     "output_type": "stream",
     "text": [
      "Unsloth: Tokenizing [\"text\"] (num_proc=20): 100%|██████████| 13042/13042 [00:16<00:00, 809.45 examples/s] \n",
      "Unsloth: Tokenizing [\"text\"] (num_proc=20): 100%|██████████| 100/100 [00:06<00:00, 16.09 examples/s]\n"
     ]
    }
   ],
   "source": [
    "trainer = SFTTrainer(\n",
    "\tmodel=model,\n",
    "\ttokenizer=tokenizer,\n",
    "\ttrain_dataset=train_dataset,\n",
    "\teval_dataset=val_dataset,\n",
    "\tdataset_text_field=\"text\",\n",
    "\tmax_seq_length=MAX_SEQ_LENGTH,\n",
    "\tdataset_num_proc=12,\n",
    "\tpacking=True,\n",
    "\targs=args,\n",
    "\tmax_grad_norm=1.0,\n",
    "\tcallbacks=[\n",
    "\t\tEarlyStoppingCallback(\n",
    "\t\t\tearly_stopping_patience=2,\n",
    "\t\t\tearly_stopping_threshold=0.05\n",
    "\t\t)\n",
    "\t],\n",
    ")\n",
    "\n",
    "# trainer = train_on_responses_only(\n",
    "# \ttrainer,\n",
    "# \tinstruction_part=\"<start_of_turn>user\\n\",\n",
    "# \tresponse_part=\"<start_of_turn>model\\n\",\n",
    "# )\n"
   ]
  },
  {
   "cell_type": "code",
   "execution_count": 8,
   "id": "614596ea",
   "metadata": {},
   "outputs": [
    {
     "name": "stdout",
     "output_type": "stream",
     "text": [
      "GPU = NVIDIA GeForce RTX 3090. Max memory = 23.663 GB.\n",
      "21.334 GB of memory reserved.\n"
     ]
    }
   ],
   "source": [
    "import torch\n",
    "# GPU stats and training call\n",
    "gpu_stats = torch.cuda.get_device_properties(0)\n",
    "start_gpu_memory = round(torch.cuda.max_memory_reserved() / 1024 / 1024 / 1024, 3)\n",
    "max_memory = round(gpu_stats.total_memory / 1024 / 1024 / 1024, 3)\n",
    "print(f\"GPU = {gpu_stats.name}. Max memory = {max_memory} GB.\")\n",
    "print(f\"{start_gpu_memory} GB of memory reserved.\")"
   ]
  },
  {
   "cell_type": "code",
   "execution_count": 9,
   "id": "60371a4b",
   "metadata": {},
   "outputs": [
    {
     "name": "stderr",
     "output_type": "stream",
     "text": [
      "==((====))==  Unsloth - 2x faster free finetuning | Num GPUs used = 1\n",
      "   \\\\   /|    Num examples = 13,042 | Num Epochs = 5 | Total steps = 230\n",
      "O^O/ \\_/ \\    Batch size per device = 12 | Gradient accumulation steps = 24\n",
      "\\        /    Data Parallel GPUs = 1 | Total batch size (12 x 24 x 1) = 288\n",
      " \"-____-\"     Trainable parameters = 268,098,176 of 268,098,176 (100.00% trained)\n",
      "Using EarlyStoppingCallback without load_best_model_at_end=True. Once training is finished, the best model will not be loaded automatically.\n"
     ]
    },
    {
     "data": {
      "text/html": [
       "\n",
       "    <div>\n",
       "      \n",
       "      <progress value='80' max='230' style='width:300px; height:20px; vertical-align: middle;'></progress>\n",
       "      [ 80/230 28:09 < 54:08, 0.05 it/s, Epoch 1/5]\n",
       "    </div>\n",
       "    <table border=\"1\" class=\"dataframe\">\n",
       "  <thead>\n",
       " <tr style=\"text-align: left;\">\n",
       "      <th>Step</th>\n",
       "      <th>Training Loss</th>\n",
       "      <th>Validation Loss</th>\n",
       "    </tr>\n",
       "  </thead>\n",
       "  <tbody>\n",
       "    <tr>\n",
       "      <td>10</td>\n",
       "      <td>1.607300</td>\n",
       "      <td>1.557417</td>\n",
       "    </tr>\n",
       "    <tr>\n",
       "      <td>20</td>\n",
       "      <td>1.615200</td>\n",
       "      <td>1.529000</td>\n",
       "    </tr>\n",
       "    <tr>\n",
       "      <td>30</td>\n",
       "      <td>1.500200</td>\n",
       "      <td>1.484895</td>\n",
       "    </tr>\n",
       "    <tr>\n",
       "      <td>40</td>\n",
       "      <td>1.483300</td>\n",
       "      <td>1.457761</td>\n",
       "    </tr>\n",
       "    <tr>\n",
       "      <td>50</td>\n",
       "      <td>1.445200</td>\n",
       "      <td>1.440255</td>\n",
       "    </tr>\n",
       "    <tr>\n",
       "      <td>60</td>\n",
       "      <td>1.424000</td>\n",
       "      <td>1.426315</td>\n",
       "    </tr>\n",
       "    <tr>\n",
       "      <td>70</td>\n",
       "      <td>1.406000</td>\n",
       "      <td>1.418822</td>\n",
       "    </tr>\n",
       "    <tr>\n",
       "      <td>80</td>\n",
       "      <td>1.402500</td>\n",
       "      <td>1.410234</td>\n",
       "    </tr>\n",
       "  </tbody>\n",
       "</table><p>"
      ],
      "text/plain": [
       "<IPython.core.display.HTML object>"
      ]
     },
     "metadata": {},
     "output_type": "display_data"
    },
    {
     "data": {
      "text/plain": [
       "TrainOutput(global_step=80, training_loss=1.4854846715927124, metrics={'train_runtime': 1710.8893, 'train_samples_per_second': 38.115, 'train_steps_per_second': 0.134, 'total_flos': 1.4074947067969536e+16, 'train_loss': 1.4854846715927124, 'epoch': 1.750689972401104})"
      ]
     },
     "execution_count": 9,
     "metadata": {},
     "output_type": "execute_result"
    }
   ],
   "source": [
    "trainer.train()"
   ]
  }
 ],
 "metadata": {
  "kernelspec": {
   "display_name": "resume_to_json",
   "language": "python",
   "name": "python3"
  },
  "language_info": {
   "codemirror_mode": {
    "name": "ipython",
    "version": 3
   },
   "file_extension": ".py",
   "mimetype": "text/x-python",
   "name": "python",
   "nbconvert_exporter": "python",
   "pygments_lexer": "ipython3",
   "version": "3.12.3"
  }
 },
 "nbformat": 4,
 "nbformat_minor": 5
}
