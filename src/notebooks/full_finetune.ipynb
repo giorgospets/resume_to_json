{
 "cells": [
  {
   "cell_type": "code",
   "execution_count": null,
   "id": "1f846597",
   "metadata": {},
   "outputs": [
    {
     "name": "stdout",
     "output_type": "stream",
     "text": [
      "==((====))==  Unsloth 2025.9.5: Fast Gemma3_Text patching. Transformers: 4.56.1. vLLM: 0.10.2.\n",
      "   \\\\   /|    NVIDIA GeForce RTX 3090. Num GPUs = 1. Max memory: 23.663 GB. Platform: Linux.\n",
      "O^O/ \\_/ \\    Torch: 2.8.0+cu128. CUDA: 8.6. CUDA Toolkit: 12.8. Triton: 3.4.0\n",
      "\\        /    Bfloat16 = TRUE. FA [Xformers = 0.0.32.post1. FA2 = False]\n",
      " \"-____-\"     Free license: http://github.com/unslothai/unsloth\n",
      "Unsloth: Fast downloading is enabled - ignore downloading bars which are red colored!\n",
      "Unsloth: Using bfloat16 full finetuning which cuts memory usage by 50%.\n",
      "Unsloth: Using bfloat16 full finetuning which cuts memory usage by 50%.\n"
     ]
    },
    {
     "name": "stderr",
     "output_type": "stream",
     "text": [
      "Map: 100%|██████████| 13076/13076 [00:00<00:00, 34215.06 examples/s]\n",
      "Filter:   0%|          | 0/13076 [00:00<?, ? examples/s]\n",
      "Filter: 100%|██████████| 13076/13076 [00:31<00:00, 415.88 examples/s]\n",
      "Map: 100%|██████████| 100/100 [00:00<00:00, 25447.79 examples/s]\n",
      "Map: 100%|██████████| 100/100 [00:00<00:00, 25447.79 examples/s]\n",
      "Filter:   0%|          | 0/100 [00:00<?, ? examples/s]\n",
      "Filter: 100%|██████████| 100/100 [00:00<00:00, 449.24 examples/s]\n",
      "Filter: 100%|██████████| 100/100 [00:00<00:00, 449.24 examples/s]\n"
     ]
    }
   ],
   "source": [
    "import sys\n",
    "from dotenv import load_dotenv\n",
    "import os\n",
    "\n",
    "load_dotenv()\n",
    "\n",
    "PROJECT_ROOT = os.getenv(\"PROJECT_ROOT\")\n",
    "sys.path.append(PROJECT_ROOT)\n",
    "sys.path.append(os.path.join(PROJECT_ROOT, \"src\"))\n",
    "sys.path.append(os.path.join(PROJECT_ROOT, \"src/scripts\"))\n",
    "sys.path.append(os.path.join(PROJECT_ROOT, \"src/utils\"))\n",
    "\n",
    "# Now import the module\n",
    "from model_full_finetune_2 import *"
   ]
  },
  {
   "cell_type": "code",
   "execution_count": 28,
   "id": "15b80d34",
   "metadata": {},
   "outputs": [],
   "source": [
    "args = TrainingArguments(\n",
    "\tper_device_train_batch_size=12,\n",
    "\tper_device_eval_batch_size=8,\n",
    "\tgradient_accumulation_steps=24,\n",
    "\twarmup_ratio=0.05,\n",
    "\tnum_train_epochs=5,\n",
    "\tlearning_rate=2e-5,\n",
    "\tfp16=not is_bfloat16_supported(),\n",
    "\tbf16=is_bfloat16_supported(),\n",
    "\tlogging_steps=10,\n",
    "\toptim=\"adamw_torch\",\n",
    "\tweight_decay=0.01,\n",
    "\tlr_scheduler_type=\"linear\",\n",
    "\tseed=3407,\n",
    "\toutput_dir=os.path.join(MODELS_PATH, \"full_finetuned_gemma-3-270m-it\"),\n",
    "\treport_to=\"tensorboard\",\n",
    "\teval_strategy=\"steps\",\n",
    "\teval_steps=10,\n",
    "\tsave_strategy=\"steps\",\n",
    "\tsave_steps=10,\n",
    "\tsave_total_limit=1,\n",
    "\tmetric_for_best_model=\"eval_loss\",\n",
    "\tgreater_is_better=False,\n",
    ")"
   ]
  },
  {
   "cell_type": "code",
   "execution_count": 29,
   "id": "80f15491",
   "metadata": {},
   "outputs": [
    {
     "name": "stderr",
     "output_type": "stream",
     "text": [
      "Unsloth: Tokenizing [\"text\"] (num_proc=20): 100%|██████████| 13042/13042 [00:18<00:00, 700.72 examples/s]\n",
      "Unsloth: Tokenizing [\"text\"] (num_proc=20): 100%|██████████| 100/100 [00:06<00:00, 15.79 examples/s]\n"
     ]
    }
   ],
   "source": [
    "trainer = SFTTrainer(\n",
    "\tmodel=model,\n",
    "\ttokenizer=tokenizer,\n",
    "\ttrain_dataset=train_dataset,\n",
    "\teval_dataset=val_dataset,\n",
    "\tdataset_text_field=\"text\",\n",
    "\tmax_seq_length=MAX_SEQ_LENGTH,\n",
    "\tdataset_num_proc=2,\n",
    "\tpacking=True,\n",
    "\targs=args,\n",
    "\tmax_grad_norm=1.0,\n",
    ")\n",
    "\n",
    "# trainer = train_on_responses_only(\n",
    "# \ttrainer,\n",
    "# \tinstruction_part=\"<start_of_turn>user\\n\",\n",
    "# \tresponse_part=\"<start_of_turn>model\\n\",\n",
    "# )\n"
   ]
  },
  {
   "cell_type": "code",
   "execution_count": 30,
   "id": "614596ea",
   "metadata": {},
   "outputs": [
    {
     "name": "stdout",
     "output_type": "stream",
     "text": [
      "GPU = NVIDIA GeForce RTX 3090. Max memory = 23.663 GB.\n",
      "21.449 GB of memory reserved.\n"
     ]
    }
   ],
   "source": [
    "import torch\n",
    "# GPU stats and training call\n",
    "gpu_stats = torch.cuda.get_device_properties(0)\n",
    "start_gpu_memory = round(torch.cuda.max_memory_reserved() / 1024 / 1024 / 1024, 3)\n",
    "max_memory = round(gpu_stats.total_memory / 1024 / 1024 / 1024, 3)\n",
    "print(f\"GPU = {gpu_stats.name}. Max memory = {max_memory} GB.\")\n",
    "print(f\"{start_gpu_memory} GB of memory reserved.\")"
   ]
  },
  {
   "cell_type": "code",
   "execution_count": null,
   "id": "60371a4b",
   "metadata": {},
   "outputs": [
    {
     "name": "stderr",
     "output_type": "stream",
     "text": [
      "==((====))==  Unsloth - 2x faster free finetuning | Num GPUs used = 1\n",
      "   \\\\   /|    Num examples = 13,042 | Num Epochs = 5 | Total steps = 230\n",
      "O^O/ \\_/ \\    Batch size per device = 12 | Gradient accumulation steps = 24\n",
      "\\        /    Data Parallel GPUs = 1 | Total batch size (12 x 24 x 1) = 288\n",
      " \"-____-\"     Trainable parameters = 268,098,176 of 268,098,176 (100.00% trained)\n"
     ]
    },
    {
     "data": {
      "text/html": [
       "\n",
       "    <div>\n",
       "      \n",
       "      <progress value='32' max='230' style='width:300px; height:20px; vertical-align: middle;'></progress>\n",
       "      [ 32/230 10:36 < 1:10:02, 0.05 it/s, Epoch 0.68/5]\n",
       "    </div>\n",
       "    <table border=\"1\" class=\"dataframe\">\n",
       "  <thead>\n",
       " <tr style=\"text-align: left;\">\n",
       "      <th>Step</th>\n",
       "      <th>Training Loss</th>\n",
       "      <th>Validation Loss</th>\n",
       "    </tr>\n",
       "  </thead>\n",
       "  <tbody>\n",
       "    <tr>\n",
       "      <td>10</td>\n",
       "      <td>2.099000</td>\n",
       "      <td>1.899153</td>\n",
       "    </tr>\n",
       "    <tr>\n",
       "      <td>20</td>\n",
       "      <td>1.786600</td>\n",
       "      <td>1.692840</td>\n",
       "    </tr>\n",
       "    <tr>\n",
       "      <td>30</td>\n",
       "      <td>1.663000</td>\n",
       "      <td>1.632922</td>\n",
       "    </tr>\n",
       "  </tbody>\n",
       "</table><p>"
      ],
      "text/plain": [
       "<IPython.core.display.HTML object>"
      ]
     },
     "metadata": {},
     "output_type": "display_data"
    },
    {
     "name": "stderr",
     "output_type": "stream",
     "text": [
      "Unsloth: Not an error, but Gemma3TextModel does not accept `num_items_in_batch`.\n",
      "Using gradient accumulation will be very slightly less accurate.\n",
      "Read more on gradient accumulation issues here: https://unsloth.ai/blog/gradient\n"
     ]
    }
   ],
   "source": [
    "trainer.train()"
   ]
  }
 ],
 "metadata": {
  "kernelspec": {
   "display_name": "resume_to_json",
   "language": "python",
   "name": "python3"
  },
  "language_info": {
   "codemirror_mode": {
    "name": "ipython",
    "version": 3
   },
   "file_extension": ".py",
   "mimetype": "text/x-python",
   "name": "python",
   "nbconvert_exporter": "python",
   "pygments_lexer": "ipython3",
   "version": "3.12.3"
  }
 },
 "nbformat": 4,
 "nbformat_minor": 5
}
